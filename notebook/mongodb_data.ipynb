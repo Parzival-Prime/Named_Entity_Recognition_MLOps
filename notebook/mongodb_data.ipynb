{
 "cells": [
  {
   "cell_type": "code",
   "execution_count": 4,
   "id": "317994aa",
   "metadata": {},
   "outputs": [],
   "source": [
    "import pandas as pd #type: ignore\n",
    "import pymongo #type: ignore"
   ]
  },
  {
   "cell_type": "code",
   "execution_count": 8,
   "id": "2c1077f0",
   "metadata": {},
   "outputs": [],
   "source": [
    "data = pd.read_csv('../data/ner_dataset.csv', encoding= 'unicode_escape')"
   ]
  },
  {
   "cell_type": "code",
   "execution_count": 9,
   "id": "d3b5064e",
   "metadata": {},
   "outputs": [],
   "source": [
    "data = data.to_dict(orient='records')"
   ]
  },
  {
   "cell_type": "code",
   "execution_count": 14,
   "id": "b24b52ab",
   "metadata": {},
   "outputs": [],
   "source": [
    "DATABASE_NAME='ner-mlops'\n",
    "COLLECTION_NAME='ner-mlops-data'\n",
    "MONGODB_URI=''"
   ]
  },
  {
   "cell_type": "code",
   "execution_count": 11,
   "id": "c7c99937",
   "metadata": {},
   "outputs": [],
   "source": [
    "client = pymongo.MongoClient(MONGODB_URI)\n",
    "database = client[DATABASE_NAME]\n",
    "collection = database[COLLECTION_NAME]"
   ]
  },
  {
   "cell_type": "code",
   "execution_count": 12,
   "id": "bc827a13",
   "metadata": {},
   "outputs": [],
   "source": [
    "rec = collection.insert_many(data)"
   ]
  },
  {
   "cell_type": "code",
   "execution_count": 13,
   "id": "d3a0b5e2",
   "metadata": {},
   "outputs": [
    {
     "name": "stdout",
     "output_type": "stream",
     "text": [
      "<class 'pymongo.results.InsertManyResult'>\n"
     ]
    }
   ],
   "source": [
    "print(type(rec))"
   ]
  }
 ],
 "metadata": {
  "kernelspec": {
   "display_name": "mlops-ner",
   "language": "python",
   "name": "python3"
  },
  "language_info": {
   "codemirror_mode": {
    "name": "ipython",
    "version": 3
   },
   "file_extension": ".py",
   "mimetype": "text/x-python",
   "name": "python",
   "nbconvert_exporter": "python",
   "pygments_lexer": "ipython3",
   "version": "3.13.3"
  }
 },
 "nbformat": 4,
 "nbformat_minor": 5
}
