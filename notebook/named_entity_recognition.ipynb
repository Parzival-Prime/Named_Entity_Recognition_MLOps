{
 "cells": [
  {
   "cell_type": "code",
   "execution_count": 1,
   "id": "5aa48ef9",
   "metadata": {},
   "outputs": [],
   "source": [
    "import pandas as pd\n",
    "from itertools import chain\n",
    "from sklearn.model_selection import train_test_split\n",
    "from tensorflow.keras.preprocessing.sequence import pad_sequences #type: ignore\n",
    "from tensorflow.keras.utils import to_categorical #type: ignore\n",
    "import numpy as np\n",
    "import tensorflow #type: ignore\n",
    "from tensorflow.keras import Sequential, Model, Input #type: ignore\n",
    "from tensorflow.keras.layers import LSTM, Embedding, Dense, TimeDistributed, Dropout, Bidirectional #type: ignore\n",
    "from tensorflow.keras.utils import plot_model #type: ignore\n",
    "from tensorflow.keras.callbacks import EarlyStopping #type: ignore\n",
    "from numpy.random import seed\n",
    "import logging\n",
    "import mlflow #type: ignore\n",
    "import os\n",
    "import time\n",
    "import dagshub #type: ignore\n",
    "import spacy #type: ignore\n",
    "from spacy import displacy #type: ignore\n",
    "import matplotlib.pyplot as plt \n",
    "logging.basicConfig(level=logging.INFO, format=\"%(asctime)s - %(levelname)s - %(message)s\")\n",
    "seed(1)\n",
    "tensorflow.random.set_seed(2)"
   ]
  },
  {
   "cell_type": "code",
   "execution_count": 2,
   "id": "16d8aa54",
   "metadata": {},
   "outputs": [],
   "source": [
    "data = pd.read_csv('../data/ner_dataset.csv', encoding='unicode_escape')"
   ]
  },
  {
   "cell_type": "code",
   "execution_count": 3,
   "id": "d8b9e3b6",
   "metadata": {},
   "outputs": [
    {
     "data": {
      "text/html": [
       "<div>\n",
       "<style scoped>\n",
       "    .dataframe tbody tr th:only-of-type {\n",
       "        vertical-align: middle;\n",
       "    }\n",
       "\n",
       "    .dataframe tbody tr th {\n",
       "        vertical-align: top;\n",
       "    }\n",
       "\n",
       "    .dataframe thead th {\n",
       "        text-align: right;\n",
       "    }\n",
       "</style>\n",
       "<table border=\"1\" class=\"dataframe\">\n",
       "  <thead>\n",
       "    <tr style=\"text-align: right;\">\n",
       "      <th></th>\n",
       "      <th>Sentence #</th>\n",
       "      <th>Word</th>\n",
       "      <th>POS</th>\n",
       "      <th>Tag</th>\n",
       "    </tr>\n",
       "  </thead>\n",
       "  <tbody>\n",
       "    <tr>\n",
       "      <th>0</th>\n",
       "      <td>Sentence: 1</td>\n",
       "      <td>Thousands</td>\n",
       "      <td>NNS</td>\n",
       "      <td>O</td>\n",
       "    </tr>\n",
       "    <tr>\n",
       "      <th>1</th>\n",
       "      <td>NaN</td>\n",
       "      <td>of</td>\n",
       "      <td>IN</td>\n",
       "      <td>O</td>\n",
       "    </tr>\n",
       "    <tr>\n",
       "      <th>2</th>\n",
       "      <td>NaN</td>\n",
       "      <td>demonstrators</td>\n",
       "      <td>NNS</td>\n",
       "      <td>O</td>\n",
       "    </tr>\n",
       "    <tr>\n",
       "      <th>3</th>\n",
       "      <td>NaN</td>\n",
       "      <td>have</td>\n",
       "      <td>VBP</td>\n",
       "      <td>O</td>\n",
       "    </tr>\n",
       "    <tr>\n",
       "      <th>4</th>\n",
       "      <td>NaN</td>\n",
       "      <td>marched</td>\n",
       "      <td>VBN</td>\n",
       "      <td>O</td>\n",
       "    </tr>\n",
       "  </tbody>\n",
       "</table>\n",
       "</div>"
      ],
      "text/plain": [
       "    Sentence #           Word  POS Tag\n",
       "0  Sentence: 1      Thousands  NNS   O\n",
       "1          NaN             of   IN   O\n",
       "2          NaN  demonstrators  NNS   O\n",
       "3          NaN           have  VBP   O\n",
       "4          NaN        marched  VBN   O"
      ]
     },
     "execution_count": 3,
     "metadata": {},
     "output_type": "execute_result"
    }
   ],
   "source": [
    "data.head()"
   ]
  },
  {
   "cell_type": "code",
   "execution_count": 4,
   "id": "ba7a646b-b690-42da-a06a-acece2cc6c2a",
   "metadata": {},
   "outputs": [],
   "source": [
    "data.rename(columns={'Sentence #': 'Sentence'}, inplace=True)"
   ]
  },
  {
   "cell_type": "code",
   "execution_count": 5,
   "id": "91e9dbc5",
   "metadata": {},
   "outputs": [],
   "source": [
    "def get_dict_map(data, token_or_tag):\n",
    "    token2index = {}\n",
    "    index2token = {}\n",
    "    \n",
    "    if token_or_tag == 'token':\n",
    "        vocab = list(set(data['Word'].to_list()))\n",
    "    else:\n",
    "        vocab = list(set(data['Tag'].to_list()))\n",
    "        \n",
    "    index2token = {idx: tok for idx, tok in enumerate(vocab)}\n",
    "    token2index = {tok: idx for idx, tok in enumerate(vocab)}\n",
    "    \n",
    "    return token2index, index2token"
   ]
  },
  {
   "cell_type": "code",
   "execution_count": 6,
   "id": "76158dce",
   "metadata": {},
   "outputs": [],
   "source": [
    "token2index, index2token = get_dict_map(data, 'token')\n",
    "tag2index, index2tag = get_dict_map(data, 'tag')"
   ]
  },
  {
   "cell_type": "code",
   "execution_count": 7,
   "id": "1913dd8c",
   "metadata": {},
   "outputs": [],
   "source": [
    "data['word_idx'] = data['Word'].map(token2index)\n",
    "data['tag_idx'] = data['Tag'].map(tag2index)"
   ]
  },
  {
   "cell_type": "code",
   "execution_count": 8,
   "id": "dd75d96d",
   "metadata": {},
   "outputs": [
    {
     "name": "stderr",
     "output_type": "stream",
     "text": [
      "C:\\Users\\DELL\\AppData\\Local\\Temp\\ipykernel_2164\\1757703102.py:1: FutureWarning: DataFrame.fillna with 'method' is deprecated and will raise in a future version. Use obj.ffill() or obj.bfill() instead.\n",
      "  data_fillna = data.fillna(method='ffill', axis=0)\n"
     ]
    }
   ],
   "source": [
    "data_fillna = data.fillna(method='ffill', axis=0)\n",
    "data_group = data_fillna.groupby(['Sentence'], as_index=False)[['Word', 'POS', 'Tag', 'word_idx', 'tag_idx']].agg(lambda x: list(x))"
   ]
  },
  {
   "cell_type": "code",
   "execution_count": 9,
   "id": "891a8173-1843-4700-9a3b-839f9e2b1519",
   "metadata": {},
   "outputs": [],
   "source": [
    "def get_pad_train_test_val(data_group, data):\n",
    "    try: \n",
    "        n_token = len(list(set(data['Word'].to_list())))\n",
    "        n_tag = len(list(set(data['Tag'].to_list())))\n",
    "\n",
    "        tokens = data_group['word_idx'].to_list()\n",
    "        maxlen = max([len(s) for s in tokens])\n",
    "        pad_tokens = pad_sequences(tokens, maxlen=maxlen, dtype='int32', padding='post', value=n_token-1)\n",
    "\n",
    "        tags = data_group['tag_idx'].to_list()\n",
    "        pad_tags = pad_sequences(tags, maxlen=maxlen, dtype='int32', padding='post', value=tag2index['O'])\n",
    "        n_tags = len(tag2index)\n",
    "        pad_tags = [to_categorical(i, num_classes=n_tags) for i in pad_tags]\n",
    "\n",
    "        tokens_, test_tokens, tags_, test_tags = train_test_split(pad_tokens, pad_tags, test_size=0.1, random_state=2020)\n",
    "        train_tokens, val_tokens, train_tags, val_tags = train_test_split(tokens_, tags_, test_size=0.25, random_state=2020)\n",
    "\n",
    "        print(\n",
    "            f'''train_tokens length: {len(train_tokens)}\n",
    "            \\ntrain_tags length: {len(train_tags)}\n",
    "            \\ntest_tokens length: {len(test_tokens)}\n",
    "            \\ntest_tags length: {len(test_tags)}\n",
    "            \\nval_tokens length: {len(val_tokens)}\n",
    "            \\nval_tags length: {len(val_tags)}'''\n",
    "        )\n",
    "\n",
    "        return train_tokens, val_tokens, test_tokens, train_tags, val_tags, test_tags\n",
    "    except Exception as e:\n",
    "        logging.error(f'Error occured in get_pad_train_test_val function!')\n",
    "        raise"
   ]
  },
  {
   "cell_type": "code",
   "execution_count": 10,
   "id": "28a3d947-7e29-4fbe-b39f-74c327552fcf",
   "metadata": {},
   "outputs": [
    {
     "name": "stdout",
     "output_type": "stream",
     "text": [
      "train_tokens length: 32372\n",
      "            \n",
      "train_tags length: 32372\n",
      "            \n",
      "test_tokens length: 4796\n",
      "            \n",
      "test_tags length: 4796\n",
      "            \n",
      "val_tokens length: 10791\n",
      "            \n",
      "val_tags length: 10791\n"
     ]
    }
   ],
   "source": [
    "train_tokens, test_tokens, val_tokens, train_tags, test_tags, val_tags = get_pad_train_test_val(data_group, data)"
   ]
  },
  {
   "cell_type": "code",
   "execution_count": 11,
   "id": "ad67abe0-aaec-42f6-acf0-4158047f978f",
   "metadata": {},
   "outputs": [],
   "source": [
    "input_dim = len(list(set(data['Word'].to_list()))) + 1\n",
    "output_dim = 64\n",
    "input_len = max([len(s) for s in data_group['word_idx'].tolist()])\n",
    "n_tags = len(tag2index)"
   ]
  },
  {
   "cell_type": "code",
   "execution_count": 17,
   "id": "41cecd33",
   "metadata": {},
   "outputs": [
    {
     "data": {
      "text/plain": [
       "104"
      ]
     },
     "execution_count": 17,
     "metadata": {},
     "output_type": "execute_result"
    }
   ],
   "source": [
    "input_len"
   ]
  },
  {
   "cell_type": "code",
   "execution_count": 12,
   "id": "67300730-f0c4-4a4e-9f50-dc8a67627307",
   "metadata": {},
   "outputs": [],
   "source": [
    "def get_bilstm_lstm_model():\n",
    "    model = Sequential()\n",
    "    model.add(Embedding(input_dim=input_dim, output_dim=output_dim, input_length=input_len))\n",
    "    model.add(Bidirectional(LSTM(units=output_dim, return_sequences=True, dropout=0.2, recurrent_dropout=0.2), merge_mode='concat'))\n",
    "    model.add(LSTM(units=output_dim, return_sequences=True, dropout=0.5, recurrent_dropout=0.5))\n",
    "    model.add(TimeDistributed(Dense(n_tags, activation='relu')))\n",
    "\n",
    "    model.compile(loss='categorical_crossentropy', optimizer='adam', metrics=['accuracy'])\n",
    "    model.summary()\n",
    "\n",
    "    return model"
   ]
  },
  {
   "cell_type": "code",
   "execution_count": 13,
   "id": "daef331f-0441-4c34-9044-ea0388558ae0",
   "metadata": {},
   "outputs": [],
   "source": [
    "BATCH_SIZE=1000\n",
    "EPOCHS=1"
   ]
  },
  {
   "cell_type": "code",
   "execution_count": 14,
   "id": "9049b934",
   "metadata": {},
   "outputs": [],
   "source": [
    "early_Stopping = EarlyStopping(\n",
    "    monitor='val_accuracy',\n",
    "    patience=5,\n",
    "    restore_best_weights=True\n",
    ")"
   ]
  },
  {
   "cell_type": "code",
   "execution_count": 15,
   "id": "7f28f4dc-719e-401a-a94e-17149075aa01",
   "metadata": {},
   "outputs": [
    {
     "name": "stderr",
     "output_type": "stream",
     "text": [
      "2025-05-20 16:34:04,674 - INFO - Starting MLflow run...\n",
      "2025-05-20 16:34:05,891 - INFO - Logging processing parameters...\n",
      "2025-05-20 16:34:05,937 - INFO - Initializing BiLSTM Model...\n",
      "c:\\Users\\DELL\\anaconda3\\envs\\mlops-ner\\lib\\site-packages\\keras\\src\\layers\\core\\embedding.py:90: UserWarning: Argument `input_length` is deprecated. Just remove it.\n",
      "  warnings.warn(\n"
     ]
    },
    {
     "data": {
      "text/html": [
       "<pre style=\"white-space:pre;overflow-x:auto;line-height:normal;font-family:Menlo,'DejaVu Sans Mono',consolas,'Courier New',monospace\"><span style=\"font-weight: bold\">Model: \"sequential\"</span>\n",
       "</pre>\n"
      ],
      "text/plain": [
       "\u001b[1mModel: \"sequential\"\u001b[0m\n"
      ]
     },
     "metadata": {},
     "output_type": "display_data"
    },
    {
     "data": {
      "text/html": [
       "<pre style=\"white-space:pre;overflow-x:auto;line-height:normal;font-family:Menlo,'DejaVu Sans Mono',consolas,'Courier New',monospace\">┏━━━━━━━━━━━━━━━━━━━━━━━━━━━━━━━━━┳━━━━━━━━━━━━━━━━━━━━━━━━┳━━━━━━━━━━━━━━━┓\n",
       "┃<span style=\"font-weight: bold\"> Layer (type)                    </span>┃<span style=\"font-weight: bold\"> Output Shape           </span>┃<span style=\"font-weight: bold\">       Param # </span>┃\n",
       "┡━━━━━━━━━━━━━━━━━━━━━━━━━━━━━━━━━╇━━━━━━━━━━━━━━━━━━━━━━━━╇━━━━━━━━━━━━━━━┩\n",
       "│ embedding (<span style=\"color: #0087ff; text-decoration-color: #0087ff\">Embedding</span>)           │ ?                      │   <span style=\"color: #00af00; text-decoration-color: #00af00\">0</span> (unbuilt) │\n",
       "├─────────────────────────────────┼────────────────────────┼───────────────┤\n",
       "│ bidirectional (<span style=\"color: #0087ff; text-decoration-color: #0087ff\">Bidirectional</span>)   │ ?                      │   <span style=\"color: #00af00; text-decoration-color: #00af00\">0</span> (unbuilt) │\n",
       "├─────────────────────────────────┼────────────────────────┼───────────────┤\n",
       "│ lstm_1 (<span style=\"color: #0087ff; text-decoration-color: #0087ff\">LSTM</span>)                   │ ?                      │   <span style=\"color: #00af00; text-decoration-color: #00af00\">0</span> (unbuilt) │\n",
       "├─────────────────────────────────┼────────────────────────┼───────────────┤\n",
       "│ time_distributed                │ ?                      │   <span style=\"color: #00af00; text-decoration-color: #00af00\">0</span> (unbuilt) │\n",
       "│ (<span style=\"color: #0087ff; text-decoration-color: #0087ff\">TimeDistributed</span>)               │                        │               │\n",
       "└─────────────────────────────────┴────────────────────────┴───────────────┘\n",
       "</pre>\n"
      ],
      "text/plain": [
       "┏━━━━━━━━━━━━━━━━━━━━━━━━━━━━━━━━━┳━━━━━━━━━━━━━━━━━━━━━━━━┳━━━━━━━━━━━━━━━┓\n",
       "┃\u001b[1m \u001b[0m\u001b[1mLayer (type)                   \u001b[0m\u001b[1m \u001b[0m┃\u001b[1m \u001b[0m\u001b[1mOutput Shape          \u001b[0m\u001b[1m \u001b[0m┃\u001b[1m \u001b[0m\u001b[1m      Param #\u001b[0m\u001b[1m \u001b[0m┃\n",
       "┡━━━━━━━━━━━━━━━━━━━━━━━━━━━━━━━━━╇━━━━━━━━━━━━━━━━━━━━━━━━╇━━━━━━━━━━━━━━━┩\n",
       "│ embedding (\u001b[38;5;33mEmbedding\u001b[0m)           │ ?                      │   \u001b[38;5;34m0\u001b[0m (unbuilt) │\n",
       "├─────────────────────────────────┼────────────────────────┼───────────────┤\n",
       "│ bidirectional (\u001b[38;5;33mBidirectional\u001b[0m)   │ ?                      │   \u001b[38;5;34m0\u001b[0m (unbuilt) │\n",
       "├─────────────────────────────────┼────────────────────────┼───────────────┤\n",
       "│ lstm_1 (\u001b[38;5;33mLSTM\u001b[0m)                   │ ?                      │   \u001b[38;5;34m0\u001b[0m (unbuilt) │\n",
       "├─────────────────────────────────┼────────────────────────┼───────────────┤\n",
       "│ time_distributed                │ ?                      │   \u001b[38;5;34m0\u001b[0m (unbuilt) │\n",
       "│ (\u001b[38;5;33mTimeDistributed\u001b[0m)               │                        │               │\n",
       "└─────────────────────────────────┴────────────────────────┴───────────────┘\n"
      ]
     },
     "metadata": {},
     "output_type": "display_data"
    },
    {
     "data": {
      "text/html": [
       "<pre style=\"white-space:pre;overflow-x:auto;line-height:normal;font-family:Menlo,'DejaVu Sans Mono',consolas,'Courier New',monospace\"><span style=\"font-weight: bold\"> Total params: </span><span style=\"color: #00af00; text-decoration-color: #00af00\">0</span> (0.00 B)\n",
       "</pre>\n"
      ],
      "text/plain": [
       "\u001b[1m Total params: \u001b[0m\u001b[38;5;34m0\u001b[0m (0.00 B)\n"
      ]
     },
     "metadata": {},
     "output_type": "display_data"
    },
    {
     "data": {
      "text/html": [
       "<pre style=\"white-space:pre;overflow-x:auto;line-height:normal;font-family:Menlo,'DejaVu Sans Mono',consolas,'Courier New',monospace\"><span style=\"font-weight: bold\"> Trainable params: </span><span style=\"color: #00af00; text-decoration-color: #00af00\">0</span> (0.00 B)\n",
       "</pre>\n"
      ],
      "text/plain": [
       "\u001b[1m Trainable params: \u001b[0m\u001b[38;5;34m0\u001b[0m (0.00 B)\n"
      ]
     },
     "metadata": {},
     "output_type": "display_data"
    },
    {
     "data": {
      "text/html": [
       "<pre style=\"white-space:pre;overflow-x:auto;line-height:normal;font-family:Menlo,'DejaVu Sans Mono',consolas,'Courier New',monospace\"><span style=\"font-weight: bold\"> Non-trainable params: </span><span style=\"color: #00af00; text-decoration-color: #00af00\">0</span> (0.00 B)\n",
       "</pre>\n"
      ],
      "text/plain": [
       "\u001b[1m Non-trainable params: \u001b[0m\u001b[38;5;34m0\u001b[0m (0.00 B)\n"
      ]
     },
     "metadata": {},
     "output_type": "display_data"
    },
    {
     "name": "stderr",
     "output_type": "stream",
     "text": [
      "2025-05-20 16:34:06,671 - INFO - Training Neural Network...\n"
     ]
    },
    {
     "name": "stdout",
     "output_type": "stream",
     "text": [
      "\u001b[1m33/33\u001b[0m \u001b[32m━━━━━━━━━━━━━━━━━━━━\u001b[0m\u001b[37m\u001b[0m \u001b[1m829s\u001b[0m 21s/step - accuracy: 0.7766 - loss: 2.5177 - val_accuracy: 0.9680 - val_loss: 0.3713\n"
     ]
    },
    {
     "name": "stderr",
     "output_type": "stream",
     "text": [
      "2025-05-20 16:48:05,619 - INFO - Network Training Complete\n",
      "2025-05-20 16:48:05,633 - INFO - Logging Training metrics...\n",
      "2025-05-20 16:48:05,633 - INFO - loss: [1.0699397325515747]\n",
      "2025-05-20 16:48:05,633 - INFO - accuracy: [0.9119835495948792]\n",
      "2025-05-20 16:48:05,650 - INFO - val_loss: [0.3712669014930725]\n",
      "2025-05-20 16:48:05,650 - INFO - val_accuracy: [0.9679761528968811]\n",
      "2025-05-20 16:48:05,800 - INFO - Plotting graphs...\n"
     ]
    },
    {
     "data": {
      "image/png": "[encoded data removed]",
      "text/plain": [
       "<Figure size 640x480 with 1 Axes>"
      ]
     },
     "metadata": {},
     "output_type": "display_data"
    },
    {
     "name": "stderr",
     "output_type": "stream",
     "text": [
      "2025-05-20 16:48:07,665 - INFO - Logging Model Parameters...\n",
      "2025-05-20 16:48:07,704 - INFO - Testing the model...\n"
     ]
    },
    {
     "data": {
      "text/html": [
       "<span class=\"tex2jax_ignore\"><div class=\"entities\" style=\"line-height: 2.5; direction: ltr\">Hi I am \n",
       "<mark class=\"entity\" style=\"background: #aa9cfc; padding: 0.45em 0.6em; margin: 0 0.25em; line-height: 1; border-radius: 0.35em;\">\n",
       "    Divyanshu\n",
       "    <span style=\"font-size: 0.8em; font-weight: bold; line-height: 1; border-radius: 0.35em; vertical-align: middle; margin-left: 0.5rem\">PERSON</span>\n",
       "</mark>\n",
       ". I am from \n",
       "<mark class=\"entity\" style=\"background: #feca74; padding: 0.45em 0.6em; margin: 0 0.25em; line-height: 1; border-radius: 0.35em;\">\n",
       "    India\n",
       "    <span style=\"font-size: 0.8em; font-weight: bold; line-height: 1; border-radius: 0.35em; vertical-align: middle; margin-left: 0.5rem\">GPE</span>\n",
       "</mark>\n",
       ". I like watching Anime and I am trying to become a ML Engineer</div></span>"
      ],
      "text/plain": [
       "<IPython.core.display.HTML object>"
      ]
     },
     "metadata": {},
     "output_type": "display_data"
    },
    {
     "name": "stderr",
     "output_type": "stream",
     "text": [
      "2025-05-20 16:48:13,799 - INFO - This is a text classification model. I will calculate metrics later, right now I am just logging model.\n",
      "2025/05/20 16:48:13 WARNING mlflow.tensorflow: You are saving a TensorFlow Core model or Keras model without a signature. Inference with mlflow.pyfunc.spark_udf() will not work unless the model's pyfunc representation accepts pandas DataFrames as inference inputs.\n",
      "2025/05/20 16:49:30 WARNING mlflow.models.model: Model logged without a signature and input example. Please set `input_example` parameter when logging the model to auto infer the model signature.\n",
      "2025-05-20 16:49:30,894 - INFO - Model training and logging completed in 925.0034062862396 seconds.\n",
      "2025-05-20 16:49:30,894 - INFO - Saving model in .h5 format into models directory...\n",
      "2025-05-20 16:49:30,894 - WARNING - You are saving your model as an HDF5 file via `model.save()` or `keras.saving.save_model(model)`. This file format is considered legacy. We recommend using instead the native Keras format, e.g. `model.save('my_model.keras')` or `keras.saving.save_model(model, 'my_model.keras')`. \n",
      "2025-05-20 16:49:31,184 - INFO - Model Saved!\n"
     ]
    }
   ],
   "source": [
    "\n",
    "import mlflow.tensorflow\n",
    "\n",
    "\n",
    "logging.info('Starting MLflow run...')\n",
    "\n",
    "with mlflow.start_run():\n",
    "    start_time = time.time()\n",
    "    try:\n",
    "        logging.info('Logging processing parameters...')\n",
    "        mlflow.log_param('optimizer', 'Adam')\n",
    "        mlflow.log_param('batch_size', 1000)\n",
    "        mlflow.log_param('epochs', 1)\n",
    "        \n",
    "        logging.info('Initializing BiLSTM Model...')\n",
    "        model = get_bilstm_lstm_model()\n",
    "        \n",
    "        logging.info('Training Neural Network...')\n",
    "        history = model.fit(train_tokens, np.array(train_tags), \n",
    "                            validation_data=(val_tokens, np.array(val_tags)), \n",
    "                            epochs=EPOCHS, \n",
    "                            batch_size=BATCH_SIZE,\n",
    "                            callbacks=[early_Stopping])\n",
    "        logging.info('Network Training Complete')\n",
    "        \n",
    "        logging.info('Logging Training metrics...')\n",
    "        history = history.history\n",
    "        \n",
    "        logging.info(f\"loss: {history['loss']}\")\n",
    "        logging.info(f\"accuracy: {history['accuracy']}\")\n",
    "        logging.info(f\"val_loss: {history['val_loss']}\")\n",
    "        logging.info(f\"val_accuracy: {history['val_accuracy']}\")\n",
    "        \n",
    "        mlflow.log_metric('loss', history['loss'][-1])\n",
    "        mlflow.log_metric('accuracy', history['accuracy'][-1])\n",
    "        mlflow.log_metric('val_loss', history['val_loss'][-1])\n",
    "        mlflow.log_metric('val_accuracy', history['val_accuracy'][-1])\n",
    "        \n",
    "        logging.info('Plotting graphs...')\n",
    "        plt.plot(history['loss'], label='Training Loss')\n",
    "        plt.plot(history['accuracy'], label='Accuracy')\n",
    "        plt.plot(history['val_loss'], label='Validation Loss')\n",
    "        plt.plot(history['val_accuracy'], label='Val Accuracy')\n",
    "        plt.xlabel('Epoch')\n",
    "        plt.ylabel('Loss')\n",
    "        plt.legend()\n",
    "        plt.show()\n",
    "        \n",
    "        logging.info('Logging Model Parameters...')\n",
    "        mlflow.log_param('model', 'Bi-LSTM')\n",
    "        \n",
    "        logging.info('Testing the model...')\n",
    "        \n",
    "        nlp = spacy.load(\"en_core_web_sm\")\n",
    "        text = nlp('Hi I am Divyanshu. I am from India. I like watching Anime and I am trying to become a ML Engineer')\n",
    "        displacy.render(text, style='ent', jupyter=True)\n",
    "        \n",
    "        logging.info('This is a text classification model. I will calculate metrics later, right now I am just logging model.')\n",
    "        mlflow.tensorflow.log_model(model, 'model')\n",
    "        \n",
    "        end_time = time.time()\n",
    "        logging.info(f'Model training and logging completed in {end_time-start_time} seconds.')\n",
    "        \n",
    "        logging.info('Saving model in .h5 format into models directory...')\n",
    "        model.save('model.h5')\n",
    "        logging.info('Model Saved!')\n",
    "        \n",
    "    except Exception as e:\n",
    "        logging.error(f\"An error occurred: {e}\", exc_info=True)"
   ]
  },
  {
   "cell_type": "code",
   "execution_count": 30,
   "id": "4cfdf962",
   "metadata": {},
   "outputs": [],
   "source": [
    "# import tf2onnx"
   ]
  },
  {
   "cell_type": "code",
   "execution_count": null,
   "id": "952db757",
   "metadata": {},
   "outputs": [],
   "source": [
    "# def convert_to_onnx(model_dir_path: str, model_name: str, input_len, output_name: str):\n",
    "#     model_file_path = os.path.join(model_dir_path, model_name)\n",
    "#     output_path = os.path.join(model_dir_path, output_name)\n",
    "#     input_signature = (tensorflow.TensorSpec(shape=(None, input_len), dtype=tensorflow.int32, name='input_ids') )\n",
    "    \n",
    "#     model_proto, _ = tf2onnx.convert.from_keras(\n",
    "#     model_file_path,\n",
    "#     input_signature=input_signature,\n",
    "#     output_path=output_path,\n",
    "#     opset=13\n",
    "#     )"
   ]
  },
  {
   "cell_type": "code",
   "execution_count": null,
   "id": "78d74b0b",
   "metadata": {},
   "outputs": [],
   "source": [
    "# from from_root import from_root\n",
    "# from src.constants import MODEL_FILE_NAME, ROOT_DIR\n",
    "# model_dir_path = os.path.join(ROOT_DIR, 'models')"
   ]
  },
  {
   "cell_type": "code",
   "execution_count": 29,
   "id": "0c5ab146",
   "metadata": {},
   "outputs": [],
   "source": [
    "# convert_to_onnx(model_dir_path=model_dir_path, model_name=MODEL_FILE_NAME, input_len=input_len, output_name='model.onnx')"
   ]
  },
  {
   "cell_type": "code",
   "execution_count": null,
   "id": "bf2306e6",
   "metadata": {},
   "outputs": [],
   "source": []
  }
 ],
 "metadata": {
  "kernelspec": {
   "display_name": "mlops-ner",
   "language": "python",
   "name": "python3"
  },
  "language_info": {
   "codemirror_mode": {
    "name": "ipython",
    "version": 3
   },
   "file_extension": ".py",
   "mimetype": "text/x-python",
   "name": "python",
   "nbconvert_exporter": "python",
   "pygments_lexer": "ipython3",
   "version": "3.10.16"
  }
 },
 "nbformat": 4,
 "nbformat_minor": 5
}
